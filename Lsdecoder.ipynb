{
  "nbformat": 4,
  "nbformat_minor": 0,
  "metadata": {
    "colab": {
      "provenance": []
    },
    "kernelspec": {
      "name": "python3",
      "display_name": "Python 3"
    },
    "language_info": {
      "name": "python"
    }
  },
  "cells": [
    {
      "cell_type": "code",
      "execution_count": 2,
      "metadata": {
        "id": "PflPIedqUOOE"
      },
      "outputs": [],
      "source": [
        "with open(\"/content/datalog1.bin\", \"rb\") as f:\n",
        "    log = f.read()\n",
        "    size = len(log)\n",
        "    imu_array = []\n",
        "    gnss_array = []\n",
        "    airpressure_array = []\n",
        "    for i in range(0, size, 32):\n",
        "        data = log[i:i+32]\n",
        "        if data[0:4] == b'\\xf0\\x00\\x00\\x00':\n",
        "                imu_array.append(data)\n",
        "        elif data[0:4] == b'\\xf1\\x00\\x00\\x00':\n",
        "                gnss_array.append(data)\n",
        "        elif data[0:4] == b'\\xf3\\x00\\x00\\x00':\n",
        "                airpressure_array.append(data)"
      ]
    },
    {
      "cell_type": "code",
      "source": [
        "print(airpressure_array[0])\n",
        "print(int.from_bytes(airpressure_array[0][0:4], \"little\"))\n",
        "print(int.from_bytes(airpressure_array[0][4:8], \"little\"))\n",
        "print(int.from_bytes(airpressure_array[0][8:12], \"little\"))\n",
        "print(int.from_bytes(airpressure_array[0][12:16], \"little\"))\n",
        "print(int.from_bytes(airpressure_array[0][16:20], \"little\"))\n",
        "print(int.from_bytes(airpressure_array[0][20:24], \"little\"))\n",
        "print(int.from_bytes(airpressure_array[0][24:28], \"little\"))\n",
        "print(int.from_bytes(airpressure_array[0][28:32], \"little\"))"
      ],
      "metadata": {
        "id": "RT4v5q8Va8pV",
        "colab": {
          "base_uri": "https://localhost:8080/"
        },
        "outputId": "2895506b-a2fd-4bec-c129-158c068034e8"
      },
      "execution_count": 10,
      "outputs": [
        {
          "output_type": "stream",
          "name": "stdout",
          "text": [
            "b'\\xf3\\x00\\x00\\x00f3\\x00\\x00\\xc0\\x91\\xf8A\\x00\\x00\\x00\\x00\\x00\\x00\\x00\\x00\\x00\\x00\\x00\\x00\\xebS\\xc5G;T\\xc5G'\n",
            "243\n",
            "13158\n",
            "1106809280\n",
            "0\n",
            "0\n",
            "0\n",
            "1204114411\n",
            "1204114491\n"
          ]
        }
      ]
    },
    {
      "cell_type": "code",
      "source": [
        "import struct\n",
        "print(imu_array[0])\n",
        "print(int.from_bytes(imu_array[0][0:4], \"little\"))\n",
        "print(struct.unpack('<f', imu_array[0][4:8])[0])\n",
        "print(struct.unpack('<f', imu_array[0][8:12])[0])\n",
        "print(struct.unpack('<f', imu_array[0][12:16])[0])\n",
        "print(struct.unpack('<f', imu_array[0][16:20])[0])\n",
        "print(struct.unpack('<f', imu_array[0][20:24])[0])\n",
        "print(struct.unpack('<f', imu_array[0][24:28])[0])\n",
        "print(struct.unpack('<f', imu_array[0][28:32])[0])"
      ],
      "metadata": {
        "colab": {
          "base_uri": "https://localhost:8080/"
        },
        "id": "-MNpPYOSBs5q",
        "outputId": "116958fd-ca08-4a4c-be2f-4cdc93a124fa"
      },
      "execution_count": 17,
      "outputs": [
        {
          "output_type": "stream",
          "name": "stdout",
          "text": [
            "b'\\xf0\\x00\\x00\\x00\\x00\\xbc\\x7f?\\x00\\x00\\xa8<\\x00\\xc0%=\\x00\\x00\\xc0\\xba\\x00\\x00\\xabA\\x00\\x00\\xc2A\\x00\\xc0d\\xc2'\n",
            "240\n",
            "0.99896240234375\n",
            "0.0205078125\n",
            "0.04046630859375\n",
            "-0.00146484375\n",
            "21.375\n",
            "24.25\n",
            "-57.1875\n"
          ]
        }
      ]
    },
    {
      "cell_type": "code",
      "source": [
        "print(gnss_array[0])\n",
        "print(int.from_bytes(gnss_array[0][0:4], \"little\"))\n",
        "print(struct.unpack('<f', gnss_array[0][4:8])[0])\n",
        "print(struct.unpack('<f', gnss_array[0][8:12])[0])\n",
        "print(struct.unpack('<f', gnss_array[0][12:16])[0])\n",
        "print(struct.unpack('<f', gnss_array[0][16:20])[0])\n",
        "print(struct.unpack('<f', gnss_array[0][20:24])[0])\n",
        "print(int.from_bytes(gnss_array[0][24:28], \"little\"))\n",
        "print(int.from_bytes(gnss_array[0][28:32], \"little\"))"
      ],
      "metadata": {
        "colab": {
          "base_uri": "https://localhost:8080/"
        },
        "id": "8Qb_wgbgDImc",
        "outputId": "d1855286-729c-4717-e756-21fbe28064fb"
      },
      "execution_count": 19,
      "outputs": [
        {
          "output_type": "stream",
          "name": "stdout",
          "text": [
            "b\"\\xf1\\x00\\x00\\x00\\xca0\\x00\\x00\\x8d\\x17D`\\x00\\x00\\x00\\x00\\x00\\x00\\x00\\x00\\x98\\xbd\\xff\\xff\\x0f'\\x00\\x00\\xf8\\x12\\x00 \"\n",
            "241\n",
            "1.7502217819416965e-41\n",
            "5.651966954815095e+19\n",
            "0.0\n",
            "0.0\n",
            "nan\n",
            "9999\n",
            "536875768\n"
          ]
        }
      ]
    }
  ]
}