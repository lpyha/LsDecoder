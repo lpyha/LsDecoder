{
  "cells": [
    {
      "cell_type": "code",
      "execution_count": 10,
      "metadata": {},
      "outputs": [],
      "source": [
        "import csv\n",
        "import struct"
      ]
    },
    {
      "cell_type": "code",
      "execution_count": 21,
      "metadata": {
        "id": "PflPIedqUOOE"
      },
      "outputs": [],
      "source": [
        "with open(\"datalog1.bin\", \"rb\") as f:\n",
        "    log = f.read()\n",
        "    size = len(log)\n",
        "    quatmag_array = []\n",
        "    accgyro_array = []\n",
        "    gnss_array = []\n",
        "    altimeter_array = []\n",
        "    for i in range(0, size, 32):\n",
        "        data = log[i:i+32]\n",
        "        if data[0:4] == b'\\xf0\\x00\\x00\\x00':\n",
        "                quatmag_array.append(data)\n",
        "        elif data[0:4] == b'\\xf1\\x00\\x00\\x00':\n",
        "                gnss_array.append(data)\n",
        "        elif data[0:4] == b'\\xf3\\x00\\x00\\x00':\n",
        "                altimeter_array.append(data)\n",
        "        elif data[0:4] == b'\\xf6\\x00\\x00\\x00':\n",
        "                accgyro_array.append(data)"
      ]
    },
    {
      "attachments": {},
      "cell_type": "markdown",
      "metadata": {},
      "source": [
        "# altimeter構造体\n",
        "- uint8_t HEADER\n",
        "- unsigned long program_time\n",
        "- float temp\n",
        "- long height_1\n",
        "- long height_2\n",
        "- long height_3\n",
        "- float air_pressure_1\n",
        "- float air_pressure_2"
      ]
    },
    {
      "cell_type": "code",
      "execution_count": 14,
      "metadata": {
        "colab": {
          "base_uri": "https://localhost:8080/"
        },
        "id": "RT4v5q8Va8pV",
        "outputId": "2895506b-a2fd-4bec-c129-158c068034e8"
      },
      "outputs": [],
      "source": [
        "with open(\"altimeter.csv\", \"w\") as f:\n",
        "    for i in range(len(altimeter_array)):\n",
        "        array = []\n",
        "        array.append(int.from_bytes(altimeter_array[i][0:4], \"little\"))\n",
        "        array.append(int.from_bytes(altimeter_array[i][4:8], \"little\"))\n",
        "        array.append(struct.unpack('<f', altimeter_array[i][8:12])[0])\n",
        "        array.append(int.from_bytes(altimeter_array[i][12:16], \"little\"))\n",
        "        array.append(int.from_bytes(altimeter_array[i][16:20], \"little\"))\n",
        "        array.append(int.from_bytes(altimeter_array[i][20:24], \"little\"))\n",
        "        array.append(struct.unpack('<f', altimeter_array[i][24:28])[0])\n",
        "        array.append(struct.unpack('<f', altimeter_array[i][28:32])[0])\n",
        "        writer = csv.writer(f)\n",
        "        writer.writerow(array)    "
      ]
    },
    {
      "attachments": {},
      "cell_type": "markdown",
      "metadata": {},
      "source": [
        "# QuatMag構造体\n",
        "- uint8_t HEADER\n",
        "- float quat_w\n",
        "- float quat_x\n",
        "- float quat_y\n",
        "- float quat_z\n",
        "- float mag_x\n",
        "- float mag_y\n",
        "- float mag_z"
      ]
    },
    {
      "cell_type": "code",
      "execution_count": 17,
      "metadata": {
        "colab": {
          "base_uri": "https://localhost:8080/"
        },
        "id": "-MNpPYOSBs5q",
        "outputId": "116958fd-ca08-4a4c-be2f-4cdc93a124fa"
      },
      "outputs": [],
      "source": [
        "with open(\"quatmag.csv\", 'w') as f:\n",
        "    for i in range(len(quatmag_array)):\n",
        "        array = []\n",
        "        array.append(int.from_bytes(quatmag_array[i][0:4], \"little\"))\n",
        "        array.append(struct.unpack('<f', quatmag_array[i][4:8])[0])\n",
        "        array.append(struct.unpack('<f', quatmag_array[i][8:12])[0])\n",
        "        array.append(struct.unpack('<f', quatmag_array[i][12:16])[0])\n",
        "        array.append(struct.unpack('<f', quatmag_array[i][16:20])[0])\n",
        "        array.append(struct.unpack('<f', quatmag_array[i][20:24])[0])\n",
        "        array.append(struct.unpack('<f', quatmag_array[i][24:28])[0])\n",
        "        array.append(struct.unpack('<f', quatmag_array[i][28:32])[0])\n",
        "        writer = csv.writer(f)\n",
        "        writer.writerow(array)"
      ]
    },
    {
      "attachments": {},
      "cell_type": "markdown",
      "metadata": {},
      "source": [
        "# AccGyro構造体\n",
        "- uint8_t HEADER\n",
        "- unsigned long program_time\n",
        "- float acc_x\n",
        "- float acc_y\n",
        "- float acc_z\n",
        "- float gyro_x\n",
        "- float gyro_y\n",
        "- float gyro_z"
      ]
    },
    {
      "cell_type": "code",
      "execution_count": 22,
      "metadata": {},
      "outputs": [],
      "source": [
        "with open(\"accgyro.csv\", 'w') as f:\n",
        "    for i in range(len(accgyro_array)):\n",
        "        array = []\n",
        "        array.append(int.from_bytes(accgyro_array[i][0:4], \"little\"))\n",
        "        array.append(int.from_bytes(accgyro_array[i][4:8], \"little\"))\n",
        "        array.append(struct.unpack('<f', accgyro_array[i][8:12])[0])\n",
        "        array.append(struct.unpack('<f', accgyro_array[i][12:16])[0])\n",
        "        array.append(struct.unpack('<f', accgyro_array[i][16:20])[0])\n",
        "        array.append(struct.unpack('<f', accgyro_array[i][20:24])[0])\n",
        "        array.append(struct.unpack('<f', accgyro_array[i][24:28])[0])\n",
        "        array.append(struct.unpack('<f', accgyro_array[i][28:32])[0])\n",
        "        writer = csv.writer(f)\n",
        "        writer.writerow(array)"
      ]
    },
    {
      "attachments": {},
      "cell_type": "markdown",
      "metadata": {},
      "source": [
        "# GNSS構造体\n",
        "- uint8_t HEADER\n",
        "- unsigned long program_time\n",
        "- uint8_t unixEpoch\n",
        "- long latitude\n",
        "- long longitude\n",
        "- long altitude\n",
        "- uint8_t pdop\n",
        "- uint8_t siv"
      ]
    },
    {
      "cell_type": "code",
      "execution_count": 19,
      "metadata": {
        "colab": {
          "base_uri": "https://localhost:8080/"
        },
        "id": "8Qb_wgbgDImc",
        "outputId": "d1855286-729c-4717-e756-21fbe28064fb"
      },
      "outputs": [],
      "source": [
        "with open(\"gnss.csv\", 'w') as f:\n",
        "    for i in range(len(gnss_array)):\n",
        "        array = []\n",
        "        array.append(int.from_bytes(gnss_array[i][0:4], \"little\"))\n",
        "        array.append(int.from_bytes(gnss_array[i][4:8], \"little\"))\n",
        "        array.append(int.from_bytes(gnss_array[i][8:12], \"little\"))\n",
        "        array.append(int.from_bytes(gnss_array[i][12:16], \"little\"))\n",
        "        array.append(int.from_bytes(gnss_array[i][16:20], \"little\"))\n",
        "        array.append(int.from_bytes(gnss_array[i][20:24], \"little\"))\n",
        "        array.append(int.from_bytes(gnss_array[i][24:28], \"little\"))\n",
        "        array.append(int.from_bytes(gnss_array[i][28:32], \"little\"))\n",
        "        writer = csv.writer(f)\n",
        "        writer.writerow(array)"
      ]
    }
  ],
  "metadata": {
    "colab": {
      "provenance": []
    },
    "kernelspec": {
      "display_name": "Python 3",
      "name": "python3"
    },
    "language_info": {
      "codemirror_mode": {
        "name": "ipython",
        "version": 3
      },
      "file_extension": ".py",
      "mimetype": "text/x-python",
      "name": "python",
      "nbconvert_exporter": "python",
      "pygments_lexer": "ipython3",
      "version": "3.10.6"
    }
  },
  "nbformat": 4,
  "nbformat_minor": 0
}
