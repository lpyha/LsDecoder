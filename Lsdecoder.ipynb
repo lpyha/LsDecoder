{
  "cells": [
    {
      "cell_type": "code",
      "execution_count": 1,
      "metadata": {},
      "outputs": [],
      "source": [
        "import csv\n",
        "import struct\n",
        "import datetime\n",
        "BIN_FILENAME = \"datalog0527.bin\"\n",
        "today = datetime.datetime.today()\n",
        "time_stamp = str(today.year) + \"_\" + str(today.month) + \"_\" + str(today.day)\n",
        "# 手書き用\n",
        "#time_stamp = \"2023_\" + \"5_\" \"\""
      ]
    },
    {
      "cell_type": "code",
      "execution_count": 2,
      "metadata": {
        "id": "PflPIedqUOOE"
      },
      "outputs": [],
      "source": [
        "with open(f\"{BIN_FILENAME}\", \"rb\") as f:\n",
        "    log = f.read()\n",
        "    size = len(log)\n",
        "    quatmag_array = []\n",
        "    accgyro_array = []\n",
        "    gnss_array = []\n",
        "    altimeter_array = []\n",
        "    for i in range(0, size, 32):\n",
        "        data = log[i:i+32]\n",
        "        if data[0:4] == b'\\xf0\\x00\\x00\\x00':\n",
        "                quatmag_array.append(data)\n",
        "        elif data[0:4] == b'\\xf1\\x00\\x00\\x00':\n",
        "                gnss_array.append(data)\n",
        "        elif data[0:4] == b'\\xf3\\x00\\x00\\x00':\n",
        "                altimeter_array.append(data)\n",
        "        elif data[0:4] == b'\\xf6\\x00\\x00\\x00':\n",
        "                accgyro_array.append(data)"
      ]
    },
    {
      "attachments": {},
      "cell_type": "markdown",
      "metadata": {},
      "source": [
        "# altimeter構造体\n",
        "- uint8_t HEADER\n",
        "- unsigned long program_time\n",
        "- float temp\n",
        "- long height_1\n",
        "- long height_2\n",
        "- long height_3\n",
        "- float air_pressure_1\n",
        "- float air_pressure_2"
      ]
    },
    {
      "cell_type": "code",
      "execution_count": 7,
      "metadata": {
        "colab": {
          "base_uri": "https://localhost:8080/"
        },
        "id": "RT4v5q8Va8pV",
        "outputId": "2895506b-a2fd-4bec-c129-158c068034e8"
      },
      "outputs": [],
      "source": [
        "# newline=\"\"を指定しないとwriterowで謎の改行がでてしまう\n",
        "with open(f\"altimeter_{time_stamp}.csv\", \"w\", newline=\"\") as f:\n",
        "    writer = csv.writer(f)\n",
        "    pandas_header = [\"header\", \"program_time\", \"temp\", \"height1\", \"height2\", \"height3\", \"air_pressure1\", \"air_pressure2\"]\n",
        "    writer.writerow(pandas_header)\n",
        "    for i in range(len(altimeter_array)):\n",
        "        array = []\n",
        "        array.append(int.from_bytes(altimeter_array[i][0:4], \"little\"))\n",
        "        array.append(int.from_bytes(altimeter_array[i][4:8], \"little\"))\n",
        "        array.append(round(struct.unpack('<f', altimeter_array[i][8:12])[0], 2))\n",
        "        array.append(int.from_bytes(altimeter_array[i][12:16], \"little\"))\n",
        "        array.append(int.from_bytes(altimeter_array[i][16:20], \"little\"))\n",
        "        array.append(int.from_bytes(altimeter_array[i][20:24], \"little\"))\n",
        "        array.append(struct.unpack('<f', altimeter_array[i][24:28])[0])\n",
        "        array.append(struct.unpack('<f', altimeter_array[i][28:32])[0])\n",
        "        writer.writerow(array)  "
      ]
    },
    {
      "attachments": {},
      "cell_type": "markdown",
      "metadata": {},
      "source": [
        "# QuatMag構造体\n",
        "- uint8_t HEADER\n",
        "- float quat_w\n",
        "- float quat_x\n",
        "- float quat_y\n",
        "- float quat_z\n",
        "- float mag_x\n",
        "- float mag_y\n",
        "- float mag_z"
      ]
    },
    {
      "cell_type": "code",
      "execution_count": 4,
      "metadata": {
        "colab": {
          "base_uri": "https://localhost:8080/"
        },
        "id": "-MNpPYOSBs5q",
        "outputId": "116958fd-ca08-4a4c-be2f-4cdc93a124fa"
      },
      "outputs": [],
      "source": [
        "with open(f\"quatmag_{time_stamp}.csv\", 'w', newline=\"\") as f:\n",
        "    writer = csv.writer(f)\n",
        "    pandas_header = [\"header\", \"quatW\", \"quatX\", \"quatY\", \"quatZ\", \"magX\", \"magY\", \"magZ\"]\n",
        "    writer.writerow(pandas_header)\n",
        "    for i in range(len(quatmag_array)):\n",
        "        array = []\n",
        "        array.append(int.from_bytes(quatmag_array[i][0:4], \"little\"))\n",
        "        array.append(struct.unpack('<f', quatmag_array[i][4:8])[0])\n",
        "        array.append(struct.unpack('<f', quatmag_array[i][8:12])[0])\n",
        "        array.append(struct.unpack('<f', quatmag_array[i][12:16])[0])\n",
        "        array.append(struct.unpack('<f', quatmag_array[i][16:20])[0])\n",
        "        array.append(struct.unpack('<f', quatmag_array[i][20:24])[0])\n",
        "        array.append(struct.unpack('<f', quatmag_array[i][24:28])[0])\n",
        "        array.append(struct.unpack('<f', quatmag_array[i][28:32])[0])\n",
        "        writer.writerow(array)"
      ]
    },
    {
      "attachments": {},
      "cell_type": "markdown",
      "metadata": {},
      "source": [
        "# AccGyro構造体\n",
        "- uint8_t HEADER\n",
        "- unsigned long program_time\n",
        "- float acc_x\n",
        "- float acc_y\n",
        "- float acc_z\n",
        "- float gyro_x\n",
        "- float gyro_y\n",
        "- float gyro_z"
      ]
    },
    {
      "cell_type": "code",
      "execution_count": 5,
      "metadata": {},
      "outputs": [],
      "source": [
        "with open(f\"accgyro_{time_stamp}.csv\", 'w', newline=\"\") as f:\n",
        "    writer = csv.writer(f)\n",
        "    pandas_header = [\"header\", \"program_time\", \"accX\", \"accY\", \"accZ\", \"gyroX\", \"gyroY\", \"gyroZ\"]\n",
        "    writer.writerow(pandas_header)\n",
        "    for i in range(len(accgyro_array)):\n",
        "        array = []\n",
        "        array.append(int.from_bytes(accgyro_array[i][0:4], \"little\"))\n",
        "        array.append(int.from_bytes(accgyro_array[i][4:8], \"little\"))\n",
        "        array.append(struct.unpack('<f', accgyro_array[i][8:12])[0])\n",
        "        array.append(struct.unpack('<f', accgyro_array[i][12:16])[0])\n",
        "        array.append(struct.unpack('<f', accgyro_array[i][16:20])[0])\n",
        "        array.append(struct.unpack('<f', accgyro_array[i][20:24])[0])\n",
        "        array.append(struct.unpack('<f', accgyro_array[i][24:28])[0])\n",
        "        array.append(struct.unpack('<f', accgyro_array[i][28:32])[0])\n",
        "        writer.writerow(array)"
      ]
    },
    {
      "attachments": {},
      "cell_type": "markdown",
      "metadata": {},
      "source": [
        "# GNSS構造体\n",
        "- uint8_t HEADER\n",
        "- unsigned long program_time\n",
        "- uint8_t unixEpoch\n",
        "- long latitude\n",
        "- long longitude\n",
        "- long altitude\n",
        "- long ground_speed\n",
        "- long heading"
      ]
    },
    {
      "cell_type": "code",
      "execution_count": 6,
      "metadata": {
        "colab": {
          "base_uri": "https://localhost:8080/"
        },
        "id": "8Qb_wgbgDImc",
        "outputId": "d1855286-729c-4717-e756-21fbe28064fb"
      },
      "outputs": [],
      "source": [
        "with open(f\"gnss_{time_stamp}.csv\", 'w', newline=\"\") as f:\n",
        "    writer = csv.writer(f)\n",
        "    pandas_header = [\"header\", \"program_time\", \"unixEpoch\", \"latitude\", \"longitude\", \"altitude\", \"groundSpeed\", \"heading\"]\n",
        "    writer.writerow(pandas_header)\n",
        "    for i in range(len(gnss_array)):\n",
        "        array = []\n",
        "        array.append(int.from_bytes(gnss_array[i][0:4], \"little\"))\n",
        "        array.append(int.from_bytes(gnss_array[i][4:8], \"little\"))\n",
        "        array.append(int.from_bytes(gnss_array[i][8:12], \"little\"))\n",
        "        \n",
        "        # u-bloxで取得した緯度経度は10^7のlongで表されるので、10^(-7)倍にした後に小数点を丸め込む\n",
        "        array.append(round(int.from_bytes(gnss_array[i][12:16], \"little\")* 10**(-7),7))\n",
        "        array.append(round(int.from_bytes(gnss_array[i][16:20], \"little\")* 10**(-7), 7))\n",
        "        \n",
        "        array.append(int.from_bytes(gnss_array[i][20:24], \"little\"))\n",
        "        array.append(int.from_bytes(gnss_array[i][24:28], \"little\"))\n",
        "        array.append(int.from_bytes(gnss_array[i][28:32], \"little\"))\n",
        "        writer.writerow(array)"
      ]
    }
  ],
  "metadata": {
    "colab": {
      "provenance": []
    },
    "kernelspec": {
      "display_name": "Python 3",
      "name": "python3"
    },
    "language_info": {
      "codemirror_mode": {
        "name": "ipython",
        "version": 3
      },
      "file_extension": ".py",
      "mimetype": "text/x-python",
      "name": "python",
      "nbconvert_exporter": "python",
      "pygments_lexer": "ipython3",
      "version": "3.10.6"
    }
  },
  "nbformat": 4,
  "nbformat_minor": 0
}
