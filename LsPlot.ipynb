{
 "cells": [
  {
   "cell_type": "code",
   "execution_count": 2,
   "metadata": {},
   "outputs": [],
   "source": [
    "import matplotlib.pyplot as plt\n",
    "import pandas as pd"
   ]
  },
  {
   "cell_type": "code",
   "execution_count": null,
   "metadata": {},
   "outputs": [],
   "source": [
    "accgyro_csv = pd.read_csv(\"accgyro.csv\",\n",
    "                          header=None,\n",
    "                          names=[\"HEADER\", \"TIME\",\n",
    "                                 \"ACC_X\", \"ACC_Y\", \"ACC_Z\",\n",
    "                                 \"GYRO_X\", \"GYRO_Y\", \"GYRO_Z\"])\n",
    "first_column_data = accgyro_csv[accgyro_csv.keys()[1]]\n",
    "second_column_data = accgyro_csv[accgyro_csv.keys()[2]]\n",
    "\n",
    "plt.rcParams['figure.figsize'] = (16.0, 6.0)\n",
    "\n",
    "\n",
    "plt.xlim(first_column_data.min(), first_column_data.max())\n",
    "plt.ylim(second_column_data.min() -1, second_column_data.max() + 1)\n",
    "\n",
    "plt.xlabel(accgyro_csv.keys()[1])\n",
    "plt.ylabel(\"ACC\")\n",
    "#plt.ylabel(accgyro_csv.keys()[3])\n",
    "#plt.ylabel(accgyro_csv.keys()[4])\n",
    "\n",
    "plt.plot(first_column_data, second_column_data, linewidth = 0, marker=',')\n",
    "plt.plot(first_column_data, accgyro_csv[accgyro_csv.keys()[3]], label=\"ACC_X\", linewidth = 0.1, marker=',')\n",
    "plt.plot(first_column_data, accgyro_csv[accgyro_csv.keys()[4]], label=\"ACC_Y\", linewidth = 0.1, marker=',')\n",
    "plt.plot(first_column_data, accgyro_csv[accgyro_csv.keys()[5]], label=\"ACC_Z\", linewidth = 0.1, marker=',')\n",
    "plt.legend()\n",
    "plt.show()"
   ]
  },
  {
   "cell_type": "code",
   "execution_count": null,
   "metadata": {},
   "outputs": [],
   "source": []
  }
 ],
 "metadata": {
  "kernelspec": {
   "display_name": "DeepLearning",
   "language": "python",
   "name": "python3"
  },
  "language_info": {
   "codemirror_mode": {
    "name": "ipython",
    "version": 3
   },
   "file_extension": ".py",
   "mimetype": "text/x-python",
   "name": "python",
   "nbconvert_exporter": "python",
   "pygments_lexer": "ipython3",
   "version": "3.10.11"
  },
  "orig_nbformat": 4
 },
 "nbformat": 4,
 "nbformat_minor": 2
}
