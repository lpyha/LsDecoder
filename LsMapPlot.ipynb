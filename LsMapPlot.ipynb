{
 "cells": [
  {
   "attachments": {},
   "cell_type": "markdown",
   "metadata": {},
   "source": [
    "# GNNSデータをfoliumを用いてプロット"
   ]
  },
  {
   "cell_type": "code",
   "execution_count": 3,
   "metadata": {},
   "outputs": [],
   "source": [
    "import folium\n",
    "import pandas as pd\n",
    "RECORD_INFO = \"2023_527\"\n",
    "CSV_FILE = f\"./csv/gnss_{RECORD_INFO}.csv\""
   ]
  },
  {
   "cell_type": "code",
   "execution_count": 4,
   "metadata": {},
   "outputs": [
    {
     "name": "stdout",
     "output_type": "stream",
     "text": [
      "35.1197111\n"
     ]
    }
   ],
   "source": [
    "# csvファイルの読み込み\n",
    "df = pd.read_csv(f\"{CSV_FILE}\")\n",
    "center_list = df.mean().tolist()\n",
    "center = [center_list[3], center_list[4]]\n",
    "all_data = df.to_numpy().tolist()\n",
    "print(all_data[0][3])\n",
    "location_data = []\n",
    "for i in range(len(all_data)):\n",
    "    location_data.append([all_data[i][3], all_data[i][4]])"
   ]
  },
  {
   "cell_type": "code",
   "execution_count": 5,
   "metadata": {},
   "outputs": [],
   "source": [
    "map = folium.Map(tiles=\"OpenStreetMap\", zoom_start=13, location=center)\n",
    "folium.PolyLine(location_data).add_to(map)\n",
    "map.save(f\"./html/TF{RECORD_INFO}.html\")"
   ]
  }
 ],
 "metadata": {
  "kernelspec": {
   "display_name": "DeepLearning",
   "language": "python",
   "name": "python3"
  },
  "language_info": {
   "codemirror_mode": {
    "name": "ipython",
    "version": 3
   },
   "file_extension": ".py",
   "mimetype": "text/x-python",
   "name": "python",
   "nbconvert_exporter": "python",
   "pygments_lexer": "ipython3",
   "version": "3.10.11"
  },
  "orig_nbformat": 4
 },
 "nbformat": 4,
 "nbformat_minor": 2
}
