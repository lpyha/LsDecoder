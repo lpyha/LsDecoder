{
 "cells": [
  {
   "cell_type": "code",
   "execution_count": 30,
   "metadata": {},
   "outputs": [],
   "source": [
    "import folium\n",
    "import pandas as pd\n",
    "CSV_FILE = \"gnss_2023_5_21.csv\"\n",
    "df = pd.read_csv(f\"{CSV_FILE}\", header=None)\n",
    "center_list = df.mean().tolist()\n",
    "center = [center_list[3], center_list[4]]\n",
    "all_data = df.to_numpy().tolist()\n",
    "location_data = []\n",
    "for i in range(len(all_data)):\n",
    "    location_data.append([all_data[i][3], all_data[i][4]])\n",
    "map = folium.Map(tiles=\"OpenStreetMap\", zoom_start=12, location=center)\n",
    "folium.PolyLine(location_data).add_to(map)\n",
    "map.save(\"onekan.html\")\n"
   ]
  }
 ],
 "metadata": {
  "kernelspec": {
   "display_name": "DeepLearning",
   "language": "python",
   "name": "python3"
  },
  "language_info": {
   "codemirror_mode": {
    "name": "ipython",
    "version": 3
   },
   "file_extension": ".py",
   "mimetype": "text/x-python",
   "name": "python",
   "nbconvert_exporter": "python",
   "pygments_lexer": "ipython3",
   "version": "3.10.11"
  },
  "orig_nbformat": 4
 },
 "nbformat": 4,
 "nbformat_minor": 2
}
